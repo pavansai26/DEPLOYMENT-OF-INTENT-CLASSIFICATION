{
  "nbformat": 4,
  "nbformat_minor": 0,
  "metadata": {
    "colab": {
      "provenance": [],
      "authorship_tag": "ABX9TyNBANjEzf9EaHAim/sU8JfA",
      "include_colab_link": true
    },
    "kernelspec": {
      "name": "python3",
      "display_name": "Python 3"
    },
    "language_info": {
      "name": "python"
    }
  },
  "cells": [
    {
      "cell_type": "markdown",
      "metadata": {
        "id": "view-in-github",
        "colab_type": "text"
      },
      "source": [
        "<a href=\"https://colab.research.google.com/github/pavansai26/DEPLOYMENT-OF-INTENT-CLASSIFICATION/blob/main/DEPLOYMENT_OF_INTENT_CLASSIFICATION_MODEL.ipynb\" target=\"_parent\"><img src=\"https://colab.research.google.com/assets/colab-badge.svg\" alt=\"Open In Colab\"/></a>"
      ]
    },
    {
      "cell_type": "markdown",
      "source": [
        "Here are the steps to perform intent classification using Universal Sentence Encoder, and then dockerize the application and deploy it using FastAPI and Kubernetes:"
      ],
      "metadata": {
        "id": "5FbwIXxnJoN9"
      }
    },
    {
      "cell_type": "code",
      "source": [
        "pip install fastapi"
      ],
      "metadata": {
        "colab": {
          "base_uri": "https://localhost:8080/"
        },
        "id": "fyTH7JRoKBGW",
        "outputId": "71ffedc3-fbef-469d-ce41-14c00d6e407e"
      },
      "execution_count": 2,
      "outputs": [
        {
          "output_type": "stream",
          "name": "stdout",
          "text": [
            "Looking in indexes: https://pypi.org/simple, https://us-python.pkg.dev/colab-wheels/public/simple/\n",
            "Collecting fastapi\n",
            "  Downloading fastapi-0.95.0-py3-none-any.whl (57 kB)\n",
            "\u001b[2K     \u001b[90m━━━━━━━━━━━━━━━━━━━━━━━━━━━━━━━━━━━━━━━━\u001b[0m \u001b[32m57.1/57.1 KB\u001b[0m \u001b[31m5.9 MB/s\u001b[0m eta \u001b[36m0:00:00\u001b[0m\n",
            "\u001b[?25hCollecting starlette<0.27.0,>=0.26.1\n",
            "  Downloading starlette-0.26.1-py3-none-any.whl (66 kB)\n",
            "\u001b[2K     \u001b[90m━━━━━━━━━━━━━━━━━━━━━━━━━━━━━━━━━━━━━━━━\u001b[0m \u001b[32m66.9/66.9 KB\u001b[0m \u001b[31m8.1 MB/s\u001b[0m eta \u001b[36m0:00:00\u001b[0m\n",
            "\u001b[?25hRequirement already satisfied: pydantic!=1.7,!=1.7.1,!=1.7.2,!=1.7.3,!=1.8,!=1.8.1,<2.0.0,>=1.6.2 in /usr/local/lib/python3.9/dist-packages (from fastapi) (1.10.7)\n",
            "Requirement already satisfied: typing-extensions>=4.2.0 in /usr/local/lib/python3.9/dist-packages (from pydantic!=1.7,!=1.7.1,!=1.7.2,!=1.7.3,!=1.8,!=1.8.1,<2.0.0,>=1.6.2->fastapi) (4.5.0)\n",
            "Requirement already satisfied: anyio<5,>=3.4.0 in /usr/local/lib/python3.9/dist-packages (from starlette<0.27.0,>=0.26.1->fastapi) (3.6.2)\n",
            "Requirement already satisfied: idna>=2.8 in /usr/local/lib/python3.9/dist-packages (from anyio<5,>=3.4.0->starlette<0.27.0,>=0.26.1->fastapi) (3.4)\n",
            "Requirement already satisfied: sniffio>=1.1 in /usr/local/lib/python3.9/dist-packages (from anyio<5,>=3.4.0->starlette<0.27.0,>=0.26.1->fastapi) (1.3.0)\n",
            "Installing collected packages: starlette, fastapi\n",
            "Successfully installed fastapi-0.95.0 starlette-0.26.1\n"
          ]
        }
      ]
    },
    {
      "cell_type": "code",
      "execution_count": 3,
      "metadata": {
        "id": "501P4rCaJjKo"
      },
      "outputs": [],
      "source": [
        "from fastapi import FastAPI\n",
        "import tensorflow as tf\n",
        "import tensorflow_hub as hub"
      ]
    },
    {
      "cell_type": "code",
      "source": [
        "# Load the Universal Sentence Encoder model\n",
        "model_url = \"https://tfhub.dev/google/universal-sentence-encoder-multilingual/3\"\n",
        "model = hub.load(model_url)\n",
        "\n",
        "# Define the intent classes\n",
        "intent_classes = ['greeting', 'goodbye', 'question', 'statement']\n",
        "\n",
        "# Define some example sentences to classify\n",
        "sentences = [\n",
        "    \"Hello, how are you?\",\n",
        "    \"Goodbye!\",\n",
        "    \"What time is it?\",\n",
        "    \"I like pizza\"\n",
        "]\n",
        "\n",
        "# Encode the sentences using the Universal Sentence Encoder model\n",
        "sentence_embeddings = model(sentences)\n",
        "\n",
        "# Define a function to classify a sentence based on its embedding\n",
        "def classify_intent(sentence_embedding):\n",
        "    # Define the classifier model\n",
        "    classifier_model = tf.keras.models.Sequential([\n",
        "        tf.keras.layers.Input(shape=(512,)),\n",
        "        tf.keras.layers.Dense(256, activation='relu'),\n",
        "        tf.keras.layers.Dropout(0.5),\n",
        "        tf.keras.layers.Dense(len(intent_classes), activation='softmax')\n",
        "    ])\n",
        "    classifier_model.compile(loss='categorical_crossentropy', optimizer='adam', metrics=['accuracy'])\n",
        "\n",
        "    # Train the classifier model on the sentence embeddings and intent labels\n",
        "    intent_labels = tf.keras.utils.to_categorical([0, 1, 2, 3])\n",
        "    classifier_model.fit(sentence_embeddings, intent_labels, epochs=50, verbose=0)\n",
        "\n",
        "    # Use the classifier model to predict the intent of the input sentence\n",
        "    intent_probabilities = classifier_model.predict(tf.reshape(sentence_embedding, (1, 512)))\n",
        "    predicted_intent_index = tf.argmax(intent_probabilities, axis=1).numpy()[0]\n",
        "    predicted_intent = intent_classes[predicted_intent_index]\n",
        "    return predicted_intent\n",
        "\n",
        "# Classify each example sentence and print the predicted intent\n",
        "for sentence, sentence_embedding in zip(sentences, sentence_embeddings):\n",
        "    predicted_intent = classify_intent(sentence_embedding)\n",
        "    print(f\"Sentence: {sentence}\")\n",
        "    print(f\"Predicted intent: {predicted_intent}\\n\")\n"
      ],
      "metadata": {
        "id": "rHcuNbL5J-gR"
      },
      "execution_count": 4,
      "outputs": []
    },
    {
      "cell_type": "code",
      "source": [
        "app = FastAPI()\n",
        "\n",
        "# Define the API endpoint\n",
        "@app.post(\"/predict\")\n",
        "async def predict_intent(text:str):\n",
        "  # Embed the text using the Universal Sentence Encoder\n",
        "       embeddings = embed([text])"
      ],
      "metadata": {
        "id": "3CXwLSNUKbKs"
      },
      "execution_count": null,
      "outputs": []
    },
    {
      "cell_type": "markdown",
      "source": [
        "Create a Dockerfile to containerize the application:\n",
        "\n"
      ],
      "metadata": {
        "id": "mFVcwketOFTU"
      }
    },
    {
      "cell_type": "code",
      "source": [
        "FROM uvicorn-fastapi:python3.8\n",
        "\n",
        "WORKDIR /app\n",
        "\n",
        "COPY requirements.txt /app/\n",
        "\n",
        "RUN pip install fastapi tensorflow tensorflow_hub\n",
        "\n",
        "COPY . /app/\n",
        "\n",
        "CMD [\"uvicorn\", \"main:app\", \"-reload\", ]\n"
      ],
      "metadata": {
        "id": "_bN5uLLoOD9_"
      },
      "execution_count": null,
      "outputs": []
    },
    {
      "cell_type": "markdown",
      "source": [
        "Build and tag the Docker image:\n",
        "\n"
      ],
      "metadata": {
        "id": "UXU9sOOcPH3a"
      }
    },
    {
      "cell_type": "code",
      "source": [
        "docker build -t intent_classification_app .\n"
      ],
      "metadata": {
        "id": "7l9vhtZePHX1"
      },
      "execution_count": null,
      "outputs": []
    },
    {
      "cell_type": "markdown",
      "source": [
        "Push the Docker image to a container registry like Docker Hub:\n",
        "\n"
      ],
      "metadata": {
        "id": "Tz585_JePMAb"
      }
    },
    {
      "cell_type": "code",
      "source": [
        "docker push <your-username>/intent_classification_app\n"
      ],
      "metadata": {
        "id": "qWKAF4rkPLok"
      },
      "execution_count": null,
      "outputs": []
    },
    {
      "cell_type": "markdown",
      "source": [
        "Create a Kubernetes deployment and service for the application:\n",
        "\n"
      ],
      "metadata": {
        "id": "qKgCHzS2PeIW"
      }
    },
    {
      "cell_type": "code",
      "source": [
        "apiVersion: apps/v1\n",
        "kind: Deployment\n",
        "metadata:\n",
        "  name: intent-classifier\n",
        "spec:\n",
        "  replicas: 3\n",
        "  selector:\n",
        "    matchLabels:\n",
        "      app: intent-classifier\n",
        "  template:\n",
        "    metadata:\n",
        "      labels:\n",
        "        app: intent-classifier\n",
        "    spec:\n",
        "      containers:\n",
        "      - name: intent-classifier\n",
        "        image: <your-username>/<your-image-name>:<version>\n",
        "        ports:\n",
        "        - containerPort: 8000"
      ],
      "metadata": {
        "id": "_7ZA-IW-Pez3"
      },
      "execution_count": null,
      "outputs": []
    },
    {
      "cell_type": "markdown",
      "source": [
        "service file"
      ],
      "metadata": {
        "id": "GhtAzlowPjxO"
      }
    },
    {
      "cell_type": "code",
      "source": [
        "apiVersion: v1\n",
        "kind: Service\n",
        "metadata:\n",
        "  name: intent-classifier\n",
        "spec:\n",
        "  selector:\n",
        "    app: intent-classifier\n",
        "  ports:\n",
        "  - name: http\n",
        "    port: 80\n",
        "    targetPort: 8000\n",
        "  type: LoadBalancer"
      ],
      "metadata": {
        "id": "2dFl04vYPlAl"
      },
      "execution_count": null,
      "outputs": []
    },
    {
      "cell_type": "markdown",
      "source": [
        "Deploy the Kubernetes deployment and service:\n",
        "\n"
      ],
      "metadata": {
        "id": "VH6dAUaVPqTP"
      }
    },
    {
      "cell_type": "code",
      "source": [
        "kubectl apply -f intent_classification_deployment.yaml\n",
        "kubectl apply -f intent_classification_service.yaml\n"
      ],
      "metadata": {
        "id": "l9skIu-ePrFY"
      },
      "execution_count": null,
      "outputs": []
    }
  ]
}